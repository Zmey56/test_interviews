{
 "cells": [
  {
   "cell_type": "markdown",
   "id": "c12676df",
   "metadata": {},
   "source": [
    "### 1. Общая информация\n",
    "\n",
    "Мобильная игра зарабатывает на показе рекламы. Есть несколько форматов: int – полноэкранная реклама; banner – горизонтальный баннер, висит внизу экрана пока юзер играет; rv – видео, которое юзер смотрит по желанию и за просмотр получает монетки или др. ресурсы. Информация о каждом показе отправляется в аналитику и содержит доход от показа, формат показанной рекламы, рекламную сеть от которой был показ и др.\n",
    "\n",
    "eCPM – доход за 1000 показов рекламы.\n",
    "\n",
    "### 2. Бизнес задача\n",
    "\n",
    "Провести исследование показов рекламы с целью понять на сколько отличается eCPM в зависимости от географии (города) юзера, версии ОС и других параметров. \n",
    "\n",
    "### 3. Что требуется\n",
    "\n",
    "1. Для каждого формата рекламы:\n",
    "* построить распределение средних eCPM-ов юзеров\n",
    "* построить распределение eCPM-ов по городам, версиям ОС\n",
    "* построить распределение доходов по городам, версиям ОС\n",
    "2. Учесть статистическую значимость (отобразить, отфильтровать незначимое или хотя бы прокомментировать). Объяснить решение.\n",
    "3. Описать наблюдения и вывод по исследованию.\n",
    "\n",
    "\n",
    "### 4. Дополнительные (по желанию)\n",
    "\n",
    "Исследовать:\n",
    "\n",
    "* Какой процент доходов содержит информацию о городе юзера \n",
    "* Зависит ли eCPM от времени дня\n",
    "\n",
    "### 5. Вспомогательная информация\n",
    "Столбец profile_id – id юзера\n",
    "\n",
    "Столбец event_json содержит данные о событии показа рекламы:\n",
    "* ad_type – формат рекламы (int, banner или rv)\n",
    "* placement – когда/где был показ рекламы в игре\n",
    "* view_index – номер показа конкретного формата рекламы для юзера (не поддерживается для баннеров)\n",
    "* revenue – доход от конкретного показа рекламы (eCPM = revenue * 1000) \n",
    "* ads_ltv – накапливающийся доход от рекламы, равен сумме всех revenue юзера\n",
    "* network_name – рекламная сеть, от которой был показ\n",
    "\n",
    "Остальные столбцы должны быть интуитивно понятны\n",
    "\n",
    "### 6. После выполнения\n",
    "\n",
    "По готовности, опубликуйте Jupyter Notebook с выполненным заданием на github и пришлите ссылку на репозиторий.\n",
    "\n",
    "При оценке выполненного задания будет оцениваться:\n",
    "* на сколько понятно визуализированы данные, хорошо ли выбраны средства для презентации данных (типы диаграмм, таблиц или др.)\n",
    "* чистота и понятность кода\n",
    "* описания наблюдений в процессе иследования и сделанные выводы\n"
   ]
  },
  {
   "cell_type": "markdown",
   "id": "4d271a4b",
   "metadata": {},
   "source": [
    "---\n",
    "Импортирую необходимые библиотеки"
   ]
  },
  {
   "cell_type": "code",
   "execution_count": 312,
   "id": "8727b496",
   "metadata": {},
   "outputs": [],
   "source": [
    "import json\n",
    "import pandas as pd\n",
    "import numpy as np\n",
    "import matplotlib.pyplot as plt\n",
    "import seaborn as sns\n",
    "from scipy.stats import ttest_ind\n",
    "from scipy.stats import mannwhitneyu\n",
    "from scipy.stats import pearsonr"
   ]
  },
  {
   "cell_type": "markdown",
   "id": "29ae12f9",
   "metadata": {},
   "source": [
    "Загружаем данные"
   ]
  },
  {
   "cell_type": "code",
   "execution_count": 2,
   "id": "63fc8cbb",
   "metadata": {},
   "outputs": [],
   "source": [
    "df = pd.read_csv('us events ad_revenue filtered 03.02-07.02.csv')"
   ]
  },
  {
   "cell_type": "code",
   "execution_count": 5,
   "id": "2ed93c00",
   "metadata": {},
   "outputs": [
    {
     "data": {
      "text/plain": [
       "(860079, 16)"
      ]
     },
     "execution_count": 5,
     "metadata": {},
     "output_type": "execute_result"
    }
   ],
   "source": [
    "df.shape"
   ]
  },
  {
   "cell_type": "markdown",
   "id": "949df351",
   "metadata": {},
   "source": [
    "Первым шагом необходимо преобразовать json данные в колонки и присоединить их к общему датафрейму. Так же удаляем колонку с данными json, так как она больше не потребуется"
   ]
  },
  {
   "cell_type": "code",
   "execution_count": 51,
   "id": "1d595c2b",
   "metadata": {},
   "outputs": [],
   "source": [
    "c_load = df['event_json'].apply(json.loads)\n",
    "c_list = list(c_load)\n",
    "c_dat = json.dumps(c_list)\n",
    "df = df.join(pd.read_json(c_dat))\n",
    "df = df.drop(['event_json'] , axis=1)"
   ]
  },
  {
   "cell_type": "code",
   "execution_count": 258,
   "id": "17bf43fc",
   "metadata": {},
   "outputs": [
    {
     "data": {
      "text/html": [
       "<div>\n",
       "<style scoped>\n",
       "    .dataframe tbody tr th:only-of-type {\n",
       "        vertical-align: middle;\n",
       "    }\n",
       "\n",
       "    .dataframe tbody tr th {\n",
       "        vertical-align: top;\n",
       "    }\n",
       "\n",
       "    .dataframe thead th {\n",
       "        text-align: right;\n",
       "    }\n",
       "</style>\n",
       "<table border=\"1\" class=\"dataframe\">\n",
       "  <thead>\n",
       "    <tr style=\"text-align: right;\">\n",
       "      <th></th>\n",
       "      <th>profile_id</th>\n",
       "      <th>os_version</th>\n",
       "      <th>device_manufacturer</th>\n",
       "      <th>device_model</th>\n",
       "      <th>device_type</th>\n",
       "      <th>device_locale</th>\n",
       "      <th>event_name</th>\n",
       "      <th>event_datetime</th>\n",
       "      <th>event_timestamp</th>\n",
       "      <th>event_receive_datetime</th>\n",
       "      <th>...</th>\n",
       "      <th>ecpm_sma</th>\n",
       "      <th>normalized_ecpm_sma</th>\n",
       "      <th>value</th>\n",
       "      <th>currency</th>\n",
       "      <th>ad_country_code</th>\n",
       "      <th>network_name</th>\n",
       "      <th>ad_unit_id</th>\n",
       "      <th>ad_network_placement</th>\n",
       "      <th>creativeId</th>\n",
       "      <th>eCPM</th>\n",
       "    </tr>\n",
       "  </thead>\n",
       "  <tbody>\n",
       "    <tr>\n",
       "      <th>0</th>\n",
       "      <td>JLjpGzDHBQm</td>\n",
       "      <td>11</td>\n",
       "      <td>Samsung</td>\n",
       "      <td>Galaxy Tab S6</td>\n",
       "      <td>tablet</td>\n",
       "      <td>en_US</td>\n",
       "      <td>c_ad_revenue</td>\n",
       "      <td>2022-02-04 20:02:28</td>\n",
       "      <td>1643994148</td>\n",
       "      <td>2022-02-06 17:58:19</td>\n",
       "      <td>...</td>\n",
       "      <td>0.511508</td>\n",
       "      <td>0.511508</td>\n",
       "      <td>0.000510</td>\n",
       "      <td>USD</td>\n",
       "      <td>US</td>\n",
       "      <td>Google AdMob</td>\n",
       "      <td>64c6b1114ea8c1cc</td>\n",
       "      <td>ca-app-pub-7511632782617496/8825263691</td>\n",
       "      <td>CJ3XirfD5vUCFYPnKAUdG3MOYQ</td>\n",
       "      <td>0.510313</td>\n",
       "    </tr>\n",
       "    <tr>\n",
       "      <th>1</th>\n",
       "      <td>JLjpGzDHBQm</td>\n",
       "      <td>11</td>\n",
       "      <td>Samsung</td>\n",
       "      <td>Galaxy Tab S6</td>\n",
       "      <td>tablet</td>\n",
       "      <td>en_US</td>\n",
       "      <td>c_ad_revenue</td>\n",
       "      <td>2022-02-04 20:02:45</td>\n",
       "      <td>1643994165</td>\n",
       "      <td>2022-02-06 17:58:19</td>\n",
       "      <td>...</td>\n",
       "      <td>0.511389</td>\n",
       "      <td>0.511389</td>\n",
       "      <td>0.000510</td>\n",
       "      <td>USD</td>\n",
       "      <td>US</td>\n",
       "      <td>Google AdMob</td>\n",
       "      <td>64c6b1114ea8c1cc</td>\n",
       "      <td>ca-app-pub-7511632782617496/8825263691</td>\n",
       "      <td>CNa-lL_D5vUCFZrpKAUdU2QBDQ</td>\n",
       "      <td>0.510313</td>\n",
       "    </tr>\n",
       "    <tr>\n",
       "      <th>2</th>\n",
       "      <td>JLkVacrzHY6</td>\n",
       "      <td>11</td>\n",
       "      <td>Google</td>\n",
       "      <td>Pixel 2</td>\n",
       "      <td>phone</td>\n",
       "      <td>en_US</td>\n",
       "      <td>c_ad_revenue</td>\n",
       "      <td>2022-02-05 17:53:05</td>\n",
       "      <td>1644072785</td>\n",
       "      <td>2022-02-06 16:59:29</td>\n",
       "      <td>...</td>\n",
       "      <td>0.928597</td>\n",
       "      <td>0.928597</td>\n",
       "      <td>0.002386</td>\n",
       "      <td>USD</td>\n",
       "      <td>US</td>\n",
       "      <td>APPLOVIN_EXCHANGE</td>\n",
       "      <td>64c6b1114ea8c1cc</td>\n",
       "      <td>banner_regular</td>\n",
       "      <td>pandora-58</td>\n",
       "      <td>2.386163</td>\n",
       "    </tr>\n",
       "    <tr>\n",
       "      <th>3</th>\n",
       "      <td>JMC6wG3cX0f</td>\n",
       "      <td>10</td>\n",
       "      <td>Samsung</td>\n",
       "      <td>Galaxy S9</td>\n",
       "      <td>phone</td>\n",
       "      <td>en_US</td>\n",
       "      <td>c_ad_revenue</td>\n",
       "      <td>2022-02-06 17:09:01</td>\n",
       "      <td>1644156541</td>\n",
       "      <td>2022-02-06 17:09:24</td>\n",
       "      <td>...</td>\n",
       "      <td>13.782633</td>\n",
       "      <td>13.893784</td>\n",
       "      <td>0.013894</td>\n",
       "      <td>USD</td>\n",
       "      <td>US</td>\n",
       "      <td>AppLovin</td>\n",
       "      <td>3ab7705b07ebb75f</td>\n",
       "      <td>inter_regular</td>\n",
       "      <td>13045364</td>\n",
       "      <td>13.893784</td>\n",
       "    </tr>\n",
       "    <tr>\n",
       "      <th>4</th>\n",
       "      <td>JLzWWTJfi1b</td>\n",
       "      <td>10</td>\n",
       "      <td>Samsung</td>\n",
       "      <td>Galaxy S9</td>\n",
       "      <td>phone</td>\n",
       "      <td>en_US</td>\n",
       "      <td>c_ad_revenue</td>\n",
       "      <td>2022-02-06 17:15:38</td>\n",
       "      <td>1644156938</td>\n",
       "      <td>2022-02-06 17:16:16</td>\n",
       "      <td>...</td>\n",
       "      <td>1.660282</td>\n",
       "      <td>1.660282</td>\n",
       "      <td>0.006828</td>\n",
       "      <td>USD</td>\n",
       "      <td>US</td>\n",
       "      <td>Google AdMob</td>\n",
       "      <td>64c6b1114ea8c1cc</td>\n",
       "      <td>ca-app-pub-7511632782617496/6197324251</td>\n",
       "      <td>CMTi5e-h6_UCFUdVwQodt9EIMw</td>\n",
       "      <td>6.827570</td>\n",
       "    </tr>\n",
       "  </tbody>\n",
       "</table>\n",
       "<p>5 rows × 33 columns</p>\n",
       "</div>"
      ],
      "text/plain": [
       "    profile_id os_version device_manufacturer   device_model device_type  \\\n",
       "0  JLjpGzDHBQm         11             Samsung  Galaxy Tab S6      tablet   \n",
       "1  JLjpGzDHBQm         11             Samsung  Galaxy Tab S6      tablet   \n",
       "2  JLkVacrzHY6         11              Google        Pixel 2       phone   \n",
       "3  JMC6wG3cX0f         10             Samsung      Galaxy S9       phone   \n",
       "4  JLzWWTJfi1b         10             Samsung      Galaxy S9       phone   \n",
       "\n",
       "  device_locale    event_name       event_datetime  event_timestamp  \\\n",
       "0         en_US  c_ad_revenue  2022-02-04 20:02:28       1643994148   \n",
       "1         en_US  c_ad_revenue  2022-02-04 20:02:45       1643994165   \n",
       "2         en_US  c_ad_revenue  2022-02-05 17:53:05       1644072785   \n",
       "3         en_US  c_ad_revenue  2022-02-06 17:09:01       1644156541   \n",
       "4         en_US  c_ad_revenue  2022-02-06 17:15:38       1644156938   \n",
       "\n",
       "  event_receive_datetime  ...   ecpm_sma normalized_ecpm_sma     value  \\\n",
       "0    2022-02-06 17:58:19  ...   0.511508            0.511508  0.000510   \n",
       "1    2022-02-06 17:58:19  ...   0.511389            0.511389  0.000510   \n",
       "2    2022-02-06 16:59:29  ...   0.928597            0.928597  0.002386   \n",
       "3    2022-02-06 17:09:24  ...  13.782633           13.893784  0.013894   \n",
       "4    2022-02-06 17:16:16  ...   1.660282            1.660282  0.006828   \n",
       "\n",
       "  currency ad_country_code       network_name        ad_unit_id  \\\n",
       "0      USD              US       Google AdMob  64c6b1114ea8c1cc   \n",
       "1      USD              US       Google AdMob  64c6b1114ea8c1cc   \n",
       "2      USD              US  APPLOVIN_EXCHANGE  64c6b1114ea8c1cc   \n",
       "3      USD              US           AppLovin  3ab7705b07ebb75f   \n",
       "4      USD              US       Google AdMob  64c6b1114ea8c1cc   \n",
       "\n",
       "                     ad_network_placement                  creativeId  \\\n",
       "0  ca-app-pub-7511632782617496/8825263691  CJ3XirfD5vUCFYPnKAUdG3MOYQ   \n",
       "1  ca-app-pub-7511632782617496/8825263691  CNa-lL_D5vUCFZrpKAUdU2QBDQ   \n",
       "2                          banner_regular                  pandora-58   \n",
       "3                           inter_regular                    13045364   \n",
       "4  ca-app-pub-7511632782617496/6197324251  CMTi5e-h6_UCFUdVwQodt9EIMw   \n",
       "\n",
       "        eCPM  \n",
       "0   0.510313  \n",
       "1   0.510313  \n",
       "2   2.386163  \n",
       "3  13.893784  \n",
       "4   6.827570  \n",
       "\n",
       "[5 rows x 33 columns]"
      ]
     },
     "execution_count": 258,
     "metadata": {},
     "output_type": "execute_result"
    }
   ],
   "source": [
    "df.head()"
   ]
  },
  {
   "cell_type": "code",
   "execution_count": 259,
   "id": "f9513be5",
   "metadata": {},
   "outputs": [],
   "source": [
    "# добавим колонку eCPM по предложенное формуле eCPM = revenue * 1000\n",
    "\n",
    "df['eCPM'] = df['revenue']*1000"
   ]
  },
  {
   "cell_type": "code",
   "execution_count": 55,
   "id": "e643d05f",
   "metadata": {},
   "outputs": [
    {
     "name": "stdout",
     "output_type": "stream",
     "text": [
      "<class 'pandas.core.frame.DataFrame'>\n",
      "RangeIndex: 860079 entries, 0 to 860078\n",
      "Data columns (total 32 columns):\n",
      " #   Column                   Non-Null Count   Dtype  \n",
      "---  ------                   --------------   -----  \n",
      " 0   profile_id               860065 non-null  object \n",
      " 1   os_version               860079 non-null  object \n",
      " 2   device_manufacturer      860079 non-null  object \n",
      " 3   device_model             860079 non-null  object \n",
      " 4   device_type              860079 non-null  object \n",
      " 5   device_locale            860079 non-null  object \n",
      " 6   event_name               860079 non-null  object \n",
      " 7   event_datetime           860079 non-null  object \n",
      " 8   event_timestamp          860079 non-null  int64  \n",
      " 9   event_receive_datetime   860079 non-null  object \n",
      " 10  event_receive_timestamp  860079 non-null  int64  \n",
      " 11  connection_type          860079 non-null  object \n",
      " 12  operator_name            841200 non-null  object \n",
      " 13  country_iso_code         860079 non-null  object \n",
      " 14  city                     536371 non-null  object \n",
      " 15  ad_type                  860079 non-null  object \n",
      " 16  placement                860079 non-null  object \n",
      " 17  view_index               860079 non-null  int64  \n",
      " 18  session_view_index       860079 non-null  int64  \n",
      " 19  cur_ticks                860079 non-null  int64  \n",
      " 20  session_length           860079 non-null  float64\n",
      " 21  revenue                  860079 non-null  float64\n",
      " 22  ads_ltv                  860079 non-null  float64\n",
      " 23  ecpm_sma                 860079 non-null  float64\n",
      " 24  normalized_ecpm_sma      860079 non-null  float64\n",
      " 25  value                    860079 non-null  float64\n",
      " 26  currency                 860079 non-null  object \n",
      " 27  ad_country_code          860079 non-null  object \n",
      " 28  network_name             860079 non-null  object \n",
      " 29  ad_unit_id               860079 non-null  object \n",
      " 30  ad_network_placement     860079 non-null  object \n",
      " 31  creativeId               860079 non-null  object \n",
      "dtypes: float64(6), int64(5), object(21)\n",
      "memory usage: 210.0+ MB\n"
     ]
    }
   ],
   "source": [
    "df.info()"
   ]
  },
  {
   "cell_type": "markdown",
   "id": "eec0971d",
   "metadata": {},
   "source": [
    "Проверим количество уникальных значений в каждой колонке"
   ]
  },
  {
   "cell_type": "code",
   "execution_count": 56,
   "id": "410866dc",
   "metadata": {},
   "outputs": [
    {
     "data": {
      "text/plain": [
       "profile_id                   4226\n",
       "os_version                     11\n",
       "device_manufacturer            34\n",
       "device_model                  284\n",
       "device_type                     2\n",
       "device_locale                   9\n",
       "event_name                      1\n",
       "event_datetime             322812\n",
       "event_timestamp            322812\n",
       "event_receive_datetime     180237\n",
       "event_receive_timestamp    180237\n",
       "connection_type                 3\n",
       "operator_name                  92\n",
       "country_iso_code                1\n",
       "city                          920\n",
       "ad_type                         3\n",
       "placement                       9\n",
       "view_index                    417\n",
       "session_view_index             75\n",
       "cur_ticks                  860073\n",
       "session_length             831628\n",
       "revenue                    178126\n",
       "ads_ltv                    856017\n",
       "ecpm_sma                   779543\n",
       "normalized_ecpm_sma        779551\n",
       "value                      178126\n",
       "currency                        1\n",
       "ad_country_code                 9\n",
       "network_name                    4\n",
       "ad_unit_id                      3\n",
       "ad_network_placement           27\n",
       "creativeId                 509066\n",
       "dtype: int64"
      ]
     },
     "execution_count": 56,
     "metadata": {},
     "output_type": "execute_result"
    }
   ],
   "source": [
    "df.nunique()"
   ]
  },
  {
   "cell_type": "markdown",
   "id": "1dd2098f",
   "metadata": {},
   "source": [
    "Подсчитаем для некоторых колонок количество уникальных знаачений:"
   ]
  },
  {
   "cell_type": "code",
   "execution_count": 58,
   "id": "9100ddc2",
   "metadata": {},
   "outputs": [
    {
     "data": {
      "text/plain": [
       "12       407587\n",
       "11       209071\n",
       "10       150871\n",
       "9         66662\n",
       "8.1.0      9249\n",
       "8.0.0      8016\n",
       "7.0        4057\n",
       "7.1.2      1811\n",
       "7.1.1      1342\n",
       "5.0.2       709\n",
       "6.0.1       704\n",
       "Name: os_version, dtype: int64"
      ]
     },
     "execution_count": 58,
     "metadata": {},
     "output_type": "execute_result"
    }
   ],
   "source": [
    "# версия операционной системы\n",
    "df['os_version'].value_counts()"
   ]
  },
  {
   "cell_type": "code",
   "execution_count": 60,
   "id": "54e3f405",
   "metadata": {},
   "outputs": [
    {
     "data": {
      "text/plain": [
       "Samsung             651633\n",
       "Google               73373\n",
       "Motorola             63544\n",
       "LG                   40033\n",
       "OnePlus               9677\n",
       "T-Mobile              3979\n",
       "TCL                   2956\n",
       "Kyocera               2930\n",
       "Cricket               1839\n",
       "Lenovo                1478\n",
       "Alcatel               1426\n",
       "Dish                  1361\n",
       "Blu                   1328\n",
       "Nokia                 1232\n",
       "Verizon Wireless       822\n",
       "Xiaomi                 390\n",
       "JOYAR                  375\n",
       "Teracube               351\n",
       "Wiko                   330\n",
       "Maxwest                182\n",
       "FIH                    169\n",
       "Zte                    144\n",
       "AT&T                   133\n",
       "Redmi                  125\n",
       "Schok                   99\n",
       "Onn (Walmart)           45\n",
       "Asus                    42\n",
       "Ulefone                 32\n",
       "POCO                    17\n",
       "deejoy                  12\n",
       "Huawei                   9\n",
       "Yulong                   5\n",
       "Razer                    5\n",
       "AEEZO                    3\n",
       "Name: device_manufacturer, dtype: int64"
      ]
     },
     "execution_count": 60,
     "metadata": {},
     "output_type": "execute_result"
    }
   ],
   "source": [
    "# имя устройства\n",
    "df['device_manufacturer'].value_counts()"
   ]
  },
  {
   "cell_type": "code",
   "execution_count": 62,
   "id": "553fa173",
   "metadata": {},
   "outputs": [
    {
     "data": {
      "text/plain": [
       "en_US         856257\n",
       "en_GB           1543\n",
       "en_IN            875\n",
       "en_CA            718\n",
       "en_NL            438\n",
       "ko_KR            147\n",
       "fr_FR             43\n",
       "zh-Hant_TW        41\n",
       "en_AU             17\n",
       "Name: device_locale, dtype: int64"
      ]
     },
     "execution_count": 62,
     "metadata": {},
     "output_type": "execute_result"
    }
   ],
   "source": [
    "# локация устройства\n",
    "df['device_locale'].value_counts()"
   ]
  },
  {
   "cell_type": "code",
   "execution_count": 63,
   "id": "c880697c",
   "metadata": {},
   "outputs": [
    {
     "data": {
      "text/plain": [
       "wifi       624421\n",
       "cell       235586\n",
       "unknown        72\n",
       "Name: connection_type, dtype: int64"
      ]
     },
     "execution_count": 63,
     "metadata": {},
     "output_type": "execute_result"
    }
   ],
   "source": [
    "# тип соединения\n",
    "df['connection_type'].value_counts()"
   ]
  },
  {
   "cell_type": "code",
   "execution_count": 64,
   "id": "ad2a14a0",
   "metadata": {},
   "outputs": [
    {
     "data": {
      "text/plain": [
       "banner    815984\n",
       "int        37613\n",
       "rv          6482\n",
       "Name: ad_type, dtype: int64"
      ]
     },
     "execution_count": 64,
     "metadata": {},
     "output_type": "execute_result"
    }
   ],
   "source": [
    "# тип рекламы\n",
    "df['ad_type'].value_counts()"
   ]
  },
  {
   "cell_type": "code",
   "execution_count": 65,
   "id": "8a4bcf10",
   "metadata": {},
   "outputs": [
    {
     "data": {
      "text/plain": [
       "                             815984\n",
       "next_level                    30579\n",
       "replay                         5592\n",
       "lose_offer_attempt             4183\n",
       "double_coins                   1716\n",
       "lose_offer_attempt_int          829\n",
       "game_repeating_reward           583\n",
       "double_coins_int                497\n",
       "game_repeating_reward_int       116\n",
       "Name: placement, dtype: int64"
      ]
     },
     "execution_count": 65,
     "metadata": {},
     "output_type": "execute_result"
    }
   ],
   "source": [
    "# когда/где был показ рекламы в игре\n",
    "df['placement'].value_counts()"
   ]
  },
  {
   "cell_type": "code",
   "execution_count": 66,
   "id": "7844d3fe",
   "metadata": {},
   "outputs": [
    {
     "data": {
      "text/plain": [
       "US    859962\n",
       "ID        42\n",
       "DE        41\n",
       "FR        14\n",
       "CA        10\n",
       "KR         4\n",
       "GB         2\n",
       "EG         2\n",
       "MX         2\n",
       "Name: ad_country_code, dtype: int64"
      ]
     },
     "execution_count": 66,
     "metadata": {},
     "output_type": "execute_result"
    }
   ],
   "source": [
    "# код страны объявления\n",
    "df['ad_country_code'].value_counts()"
   ]
  },
  {
   "cell_type": "code",
   "execution_count": 67,
   "id": "645d9ef9",
   "metadata": {},
   "outputs": [
    {
     "data": {
      "text/plain": [
       "Google AdMob         484728\n",
       "APPLOVIN_EXCHANGE    338427\n",
       "AppLovin              20831\n",
       "Facebook              16093\n",
       "Name: network_name, dtype: int64"
      ]
     },
     "execution_count": 67,
     "metadata": {},
     "output_type": "execute_result"
    }
   ],
   "source": [
    "# сетевое имя\n",
    "df['network_name'].value_counts()"
   ]
  },
  {
   "cell_type": "code",
   "execution_count": 68,
   "id": "46ef31e9",
   "metadata": {},
   "outputs": [
    {
     "data": {
      "text/plain": [
       "64c6b1114ea8c1cc    815984\n",
       "3ab7705b07ebb75f     37613\n",
       "731adac31d29c507      6482\n",
       "Name: ad_unit_id, dtype: int64"
      ]
     },
     "execution_count": 68,
     "metadata": {},
     "output_type": "execute_result"
    }
   ],
   "source": [
    "# идентификатор рекламного блока\n",
    "df['ad_unit_id'].value_counts()"
   ]
  },
  {
   "cell_type": "code",
   "execution_count": 69,
   "id": "24810653",
   "metadata": {},
   "outputs": [
    {
     "data": {
      "text/plain": [
       "ca-app-pub-7511632782617496/8825263691    354497\n",
       "banner_regular                            333365\n",
       "ca-app-pub-7511632782617496/4884242584     86182\n",
       "ca-app-pub-7511632782617496/6197324251     30751\n",
       "inter_regular                              23094\n",
       "524377382067272_528134061691604            11152\n",
       "524377382067272_528132981691712             4012\n",
       "ca-app-pub-7511632782617496/9814911735      2919\n",
       "inter_videoa                                2799\n",
       "ca-app-pub-7511632782617496/7849758211      2632\n",
       "ca-app-pub-7511632782617496/8484360640      1792\n",
       "ca-app-pub-7511632782617496/3824218458      1474\n",
       "ca-app-pub-7511632782617496/2311325220      1191\n",
       "ca-app-pub-7511632782617496/9765475119       973\n",
       "524377382067272_528133115025032              929\n",
       "ca-app-pub-7511632782617496/1189815249       880\n",
       "ca-app-pub-7511632782617496/6833525175       714\n",
       "ca-app-pub-7511632782617496/4462189301       677\n",
       "ca-app-pub-7511632782617496/1329917050        34\n",
       "ca-app-pub-7511632782617496/8342047967         3\n",
       "ca-app-pub-7511632782617496/4151521517         2\n",
       "ca-app-pub-7511632782617496/3413154913         2\n",
       "ca-app-pub-7511632782617496/5197009874         1\n",
       "ca-app-pub-7511632782617496/6288931395         1\n",
       "ca-app-pub-7511632782617496/7233636966         1\n",
       "ca-app-pub-7511632782617496/9595419886         1\n",
       "ca-app-pub-7511632782617496/6401956938         1\n",
       "Name: ad_network_placement, dtype: int64"
      ]
     },
     "execution_count": 69,
     "metadata": {},
     "output_type": "execute_result"
    }
   ],
   "source": [
    "# размещение в рекламной сети\n",
    "df['ad_network_placement'].value_counts()"
   ]
  },
  {
   "cell_type": "markdown",
   "id": "cd9c519b",
   "metadata": {},
   "source": [
    "# Для каждого формата рекламы построим распределение средних eCPM-ов юзеров"
   ]
  },
  {
   "cell_type": "code",
   "execution_count": 260,
   "id": "ed94b886",
   "metadata": {},
   "outputs": [],
   "source": [
    "# вычислим средние для каждого ползователя в зависимости от формата реклаиы\n",
    "table = pd.pivot_table(df, values='eCPM', index=['ad_type','profile_id'], aggfunc=np.mean)"
   ]
  },
  {
   "cell_type": "code",
   "execution_count": 261,
   "id": "d4a6f03d",
   "metadata": {},
   "outputs": [],
   "source": [
    "# преобразуем данные для построения графиков\n",
    "table_hist = table.reset_index()"
   ]
  },
  {
   "cell_type": "code",
   "execution_count": 358,
   "id": "12c2f306",
   "metadata": {},
   "outputs": [
    {
     "data": {
      "image/png": "[encoded data removed]",
      "text/plain": [
       "<Figure size 1440x1080 with 4 Axes>"
      ]
     },
     "metadata": {
      "needs_background": "light"
     },
     "output_type": "display_data"
    }
   ],
   "source": [
    "table_hist['eCPM'].hist(by=table_hist['ad_type'], figsize=(20, 15), bins=100)\n",
    "plt.xlabel('xlabel', fontsize=18)\n",
    "plt.show()"
   ]
  },
  {
   "cell_type": "markdown",
   "id": "dcb3a761",
   "metadata": {},
   "source": [
    "Дальше найдем из каждой выборки пользователя, который имеет наибольшую среднию eCPM"
   ]
  },
  {
   "cell_type": "code",
   "execution_count": 344,
   "id": "c6f05d31",
   "metadata": {},
   "outputs": [
    {
     "data": {
      "text/plain": [
       "ad_type            banner\n",
       "profile_id    JMALx7q70qG\n",
       "eCPM            43.021387\n",
       "Name: 2802, dtype: object"
      ]
     },
     "execution_count": 344,
     "metadata": {},
     "output_type": "execute_result"
    }
   ],
   "source": [
    "table_hist.iloc[table_hist[table_hist['ad_type']=='banner']['eCPM'].idxmax()]"
   ]
  },
  {
   "cell_type": "code",
   "execution_count": 346,
   "id": "6b475b01",
   "metadata": {},
   "outputs": [
    {
     "data": {
      "text/plain": [
       "ad_type               int\n",
       "profile_id    JLs8H01mzVe\n",
       "eCPM            568.67827\n",
       "Name: 5383, dtype: object"
      ]
     },
     "execution_count": 346,
     "metadata": {},
     "output_type": "execute_result"
    }
   ],
   "source": [
    "table_hist.iloc[table_hist[table_hist['ad_type']=='int']['eCPM'].idxmax()]"
   ]
  },
  {
   "cell_type": "code",
   "execution_count": 345,
   "id": "33b437ad",
   "metadata": {},
   "outputs": [
    {
     "data": {
      "text/plain": [
       "ad_type                rv\n",
       "profile_id    JLtY7hvRXO3\n",
       "eCPM            808.29482\n",
       "Name: 8254, dtype: object"
      ]
     },
     "execution_count": 345,
     "metadata": {},
     "output_type": "execute_result"
    }
   ],
   "source": [
    "table_hist.iloc[table_hist[table_hist['ad_type']=='rv']['eCPM'].idxmax()]"
   ]
  },
  {
   "cell_type": "markdown",
   "id": "ae19f42f",
   "metadata": {},
   "source": [
    "Так же найдем из каждой выборки пользователя, который имеет наименьшую среднию eCPM"
   ]
  },
  {
   "cell_type": "code",
   "execution_count": 347,
   "id": "2aace972",
   "metadata": {},
   "outputs": [
    {
     "data": {
      "text/plain": [
       "ad_type            banner\n",
       "profile_id    JL3xP8xM4Xf\n",
       "eCPM              0.01393\n",
       "Name: 57, dtype: object"
      ]
     },
     "execution_count": 347,
     "metadata": {},
     "output_type": "execute_result"
    }
   ],
   "source": [
    "table_hist.iloc[table_hist[table_hist['ad_type']=='banner']['eCPM'].idxmin()]"
   ]
  },
  {
   "cell_type": "code",
   "execution_count": 348,
   "id": "14f35662",
   "metadata": {},
   "outputs": [
    {
     "data": {
      "text/plain": [
       "ad_type               int\n",
       "profile_id    JL7PaV98HXg\n",
       "eCPM                  0.0\n",
       "Name: 3656, dtype: object"
      ]
     },
     "execution_count": 348,
     "metadata": {},
     "output_type": "execute_result"
    }
   ],
   "source": [
    "table_hist.iloc[table_hist[table_hist['ad_type']=='int']['eCPM'].idxmin()]"
   ]
  },
  {
   "cell_type": "code",
   "execution_count": 349,
   "id": "3a116494",
   "metadata": {},
   "outputs": [
    {
     "data": {
      "text/plain": [
       "ad_type                rv\n",
       "profile_id    JL3xP8xM4Xf\n",
       "eCPM             0.223222\n",
       "Name: 7486, dtype: object"
      ]
     },
     "execution_count": 349,
     "metadata": {},
     "output_type": "execute_result"
    }
   ],
   "source": [
    "table_hist.iloc[table_hist[table_hist['ad_type']=='rv']['eCPM'].idxmin()]"
   ]
  },
  {
   "cell_type": "markdown",
   "id": "2de3db8c",
   "metadata": {},
   "source": [
    "# Для каждого формата рекламы построим распределение eCPM-ов по городам, версиям ОС"
   ]
  },
  {
   "cell_type": "code",
   "execution_count": 350,
   "id": "5a4a0f1b",
   "metadata": {},
   "outputs": [],
   "source": [
    "# сгруппируем для каждого ползователя в зависимости от рекламы и города\n",
    "table_2 = pd.pivot_table(df, values='eCPM', index=['ad_type','os_version', 'city'])"
   ]
  },
  {
   "cell_type": "code",
   "execution_count": 351,
   "id": "e61a6054",
   "metadata": {},
   "outputs": [],
   "source": [
    "# преобразуем данные для построения графиков\n",
    "table_hist_2 = table_2.reset_index()"
   ]
  },
  {
   "cell_type": "code",
   "execution_count": 357,
   "id": "2d00ede6",
   "metadata": {},
   "outputs": [
    {
     "data": {
      "image/png": "[encoded data removed]",
      "text/plain": [
       "<Figure size 1440x1080 with 4 Axes>"
      ]
     },
     "metadata": {
      "needs_background": "light"
     },
     "output_type": "display_data"
    }
   ],
   "source": [
    "table_hist_2['eCPM'].hist(by=table_hist_2['ad_type'], figsize=(20, 15))\n",
    "plt.show()"
   ]
  },
  {
   "cell_type": "code",
   "execution_count": 376,
   "id": "b40a2cd8",
   "metadata": {},
   "outputs": [],
   "source": [
    "# сгруппируем для каждого ползователя в зависимости от OS\n",
    "table_2_os = pd.pivot_table(df, values='eCPM', index=['ad_type','os_version'], aggfunc=np.mean)"
   ]
  },
  {
   "cell_type": "code",
   "execution_count": 377,
   "id": "ab5081ce",
   "metadata": {},
   "outputs": [],
   "source": [
    "table_hist_2_os = table_2_os.reset_index()"
   ]
  },
  {
   "cell_type": "code",
   "execution_count": 452,
   "id": "ef94b8f6",
   "metadata": {},
   "outputs": [
    {
     "data": {
      "image/png": "[encoded data removed]",
      "text/plain": [
       "<Figure size 432x288 with 1 Axes>"
      ]
     },
     "metadata": {
      "needs_background": "light"
     },
     "output_type": "display_data"
    }
   ],
   "source": [
    "# построим гистограмму для banner\n",
    "ax = sns.barplot(data=table_hist_2_os[table_hist_2_os['ad_type'] == 'banner'],\n",
    "                 x='os_version', y='eCPM')"
   ]
  },
  {
   "cell_type": "code",
   "execution_count": 451,
   "id": "20cc44d8",
   "metadata": {},
   "outputs": [
    {
     "data": {
      "image/png": "[encoded data removed]",
      "text/plain": [
       "<Figure size 432x288 with 1 Axes>"
      ]
     },
     "metadata": {
      "needs_background": "light"
     },
     "output_type": "display_data"
    }
   ],
   "source": [
    "# построим гистограмму для int\n",
    "ax = sns.barplot(data=table_hist_2_os[table_hist_2_os['ad_type'] == 'int'],\n",
    "                 x='os_version', y='eCPM', color='yellow')"
   ]
  },
  {
   "cell_type": "code",
   "execution_count": 450,
   "id": "4d976267",
   "metadata": {},
   "outputs": [
    {
     "data": {
      "image/png": "[encoded data removed]",
      "text/plain": [
       "<Figure size 432x288 with 1 Axes>"
      ]
     },
     "metadata": {
      "needs_background": "light"
     },
     "output_type": "display_data"
    }
   ],
   "source": [
    "# построим гистограмму для rv\n",
    "ax = sns.barplot(data=table_hist_2_os[table_hist_2_os['ad_type'] == 'rv'],\n",
    "                 x='os_version', y='eCPM', color='crimson')"
   ]
  },
  {
   "cell_type": "code",
   "execution_count": 413,
   "id": "47242dd8",
   "metadata": {},
   "outputs": [],
   "source": [
    "# сгруппируем для каждого пользователя в зависимости от city\n",
    "table_2_city = pd.pivot_table(df, values='eCPM', index=['ad_type','city'],\n",
    "                              aggfunc=np.mean).sort_values('eCPM', ascending=False)"
   ]
  },
  {
   "cell_type": "code",
   "execution_count": 414,
   "id": "c73ef042",
   "metadata": {},
   "outputs": [],
   "source": [
    "table_hist_2_city = table_2_city.reset_index()"
   ]
  },
  {
   "cell_type": "code",
   "execution_count": 449,
   "id": "6349faed",
   "metadata": {},
   "outputs": [
    {
     "data": {
      "image/png": "[encoded data removed]",
      "text/plain": [
       "<Figure size 432x288 with 1 Axes>"
      ]
     },
     "metadata": {
      "needs_background": "light"
     },
     "output_type": "display_data"
    }
   ],
   "source": [
    "# построим гистограмму для banner\n",
    "ax = sns.barplot(data=table_hist_2_city[table_hist_2_city['ad_type'] == 'banner'][:30],\n",
    "                 x='city', y='eCPM')\n",
    "plt.xticks(rotation=90)\n",
    "plt.show()"
   ]
  },
  {
   "cell_type": "code",
   "execution_count": 448,
   "id": "45ce89d4",
   "metadata": {},
   "outputs": [
    {
     "data": {
      "image/png": "[encoded data removed]",
      "text/plain": [
       "<Figure size 432x288 with 1 Axes>"
      ]
     },
     "metadata": {
      "needs_background": "light"
     },
     "output_type": "display_data"
    }
   ],
   "source": [
    "# построим гистограмму для banner\n",
    "ax = sns.barplot(data=table_hist_2_city[table_hist_2_city['ad_type'] == 'int'][:30],\n",
    "                 x='city', y='eCPM',color='yellow')\n",
    "plt.xticks(rotation=90)\n",
    "plt.show()"
   ]
  },
  {
   "cell_type": "code",
   "execution_count": 447,
   "id": "fa16d5b2",
   "metadata": {},
   "outputs": [
    {
     "data": {
      "image/png": "[encoded data removed]",
      "text/plain": [
       "<Figure size 432x288 with 1 Axes>"
      ]
     },
     "metadata": {
      "needs_background": "light"
     },
     "output_type": "display_data"
    }
   ],
   "source": [
    "# построим гистограмму для banner\n",
    "ax = sns.barplot(data=table_hist_2_city[table_hist_2_city['ad_type'] == 'rv'][:30],\n",
    "                 x='city', y='eCPM', color='crimson')\n",
    "plt.xticks(rotation=90)\n",
    "plt.show()"
   ]
  },
  {
   "cell_type": "markdown",
   "id": "2221e378",
   "metadata": {},
   "source": [
    "# Для каждого формата рекламы построим распределение доходов по городам, версиям ОС"
   ]
  },
  {
   "cell_type": "code",
   "execution_count": 427,
   "id": "85866119",
   "metadata": {},
   "outputs": [],
   "source": [
    "# вычислим сумму для каждого города и версии ОС\n",
    "table_3 = pd.pivot_table(df, values='ads_ltv', index=['ad_type','os_version', 'city'], aggfunc=np.sum)"
   ]
  },
  {
   "cell_type": "code",
   "execution_count": 428,
   "id": "2f153cd4",
   "metadata": {},
   "outputs": [],
   "source": [
    "# преобразуем данные для построения графиков\n",
    "table_hist_3 = table_3.reset_index()"
   ]
  },
  {
   "cell_type": "code",
   "execution_count": 429,
   "id": "640ff97a",
   "metadata": {},
   "outputs": [
    {
     "data": {
      "image/png": "[encoded data removed]",
      "text/plain": [
       "<Figure size 1440x1080 with 4 Axes>"
      ]
     },
     "metadata": {
      "needs_background": "light"
     },
     "output_type": "display_data"
    }
   ],
   "source": [
    "table_hist_3['ads_ltv'].hist(by=table_hist_3['ad_type'], figsize=(20, 15))\n",
    "plt.show()"
   ]
  },
  {
   "cell_type": "code",
   "execution_count": 479,
   "id": "e3350905",
   "metadata": {},
   "outputs": [],
   "source": [
    "# сгруппируем для каждого ползователя в зависимости от OS\n",
    "table_3_os = pd.pivot_table(df, values='ads_ltv', index=['ad_type','os_version'], aggfunc=np.sum)"
   ]
  },
  {
   "cell_type": "code",
   "execution_count": 480,
   "id": "373c6d1e",
   "metadata": {},
   "outputs": [],
   "source": [
    "table_hist_3_os = table_3_os.reset_index()"
   ]
  },
  {
   "cell_type": "code",
   "execution_count": 481,
   "id": "2aeab3dc",
   "metadata": {},
   "outputs": [
    {
     "data": {
      "image/png": "[encoded data removed]",
      "text/plain": [
       "<Figure size 432x288 with 1 Axes>"
      ]
     },
     "metadata": {
      "needs_background": "light"
     },
     "output_type": "display_data"
    }
   ],
   "source": [
    "# построим гистограмму для banner\n",
    "ax = sns.barplot(data=table_hist_3_os[table_hist_3_os['ad_type'] == 'banner'],\n",
    "                 x='os_version', y='ads_ltv')"
   ]
  },
  {
   "cell_type": "code",
   "execution_count": 445,
   "id": "bef2946b",
   "metadata": {},
   "outputs": [
    {
     "data": {
      "image/png": "[encoded data removed]",
      "text/plain": [
       "<Figure size 432x288 with 1 Axes>"
      ]
     },
     "metadata": {
      "needs_background": "light"
     },
     "output_type": "display_data"
    }
   ],
   "source": [
    "# построим гистограмму для int\n",
    "ax = sns.barplot(data=table_hist_3_os[table_hist_3_os['ad_type'] == 'int'],\n",
    "                 x='os_version', y='ads_ltv', color='yellow')"
   ]
  },
  {
   "cell_type": "code",
   "execution_count": 444,
   "id": "deadd378",
   "metadata": {},
   "outputs": [
    {
     "data": {
      "image/png": "[encoded data removed]",
      "text/plain": [
       "<Figure size 432x288 with 1 Axes>"
      ]
     },
     "metadata": {
      "needs_background": "light"
     },
     "output_type": "display_data"
    }
   ],
   "source": [
    "# построим гистограмму для rv\n",
    "ax = sns.barplot(data=table_hist_3_os[table_hist_3_os['ad_type'] == 'rv'],\n",
    "                 x='os_version', y='ads_ltv', color='crimson')"
   ]
  },
  {
   "cell_type": "code",
   "execution_count": 438,
   "id": "8f755c0d",
   "metadata": {},
   "outputs": [],
   "source": [
    "# сгруппируем для каждого пользователя в зависимости от city\n",
    "table_3_city = pd.pivot_table(df, values='ads_ltv', index=['ad_type','city'],\n",
    "                              aggfunc=np.sum).sort_values('ads_ltv', ascending=False)"
   ]
  },
  {
   "cell_type": "code",
   "execution_count": 442,
   "id": "7240a79c",
   "metadata": {},
   "outputs": [],
   "source": [
    "table_hist_3_city = table_3_city.reset_index()"
   ]
  },
  {
   "cell_type": "code",
   "execution_count": 443,
   "id": "2db1e59b",
   "metadata": {},
   "outputs": [
    {
     "data": {
      "image/png": "[encoded data removed]",
      "text/plain": [
       "<Figure size 432x288 with 1 Axes>"
      ]
     },
     "metadata": {
      "needs_background": "light"
     },
     "output_type": "display_data"
    }
   ],
   "source": [
    "# построим гистограмму для banner\n",
    "ax = sns.barplot(data=table_hist_3_city[table_hist_3_city['ad_type'] == 'banner'][:30],\n",
    "                 x='city', y='ads_ltv')\n",
    "plt.xticks(rotation=90)\n",
    "plt.show()"
   ]
  },
  {
   "cell_type": "code",
   "execution_count": 453,
   "id": "7b05b5aa",
   "metadata": {},
   "outputs": [
    {
     "data": {
      "image/png": "[encoded data removed]",
      "text/plain": [
       "<Figure size 432x288 with 1 Axes>"
      ]
     },
     "metadata": {
      "needs_background": "light"
     },
     "output_type": "display_data"
    }
   ],
   "source": [
    "# построим гистограмму для banner\n",
    "ax = sns.barplot(data=table_hist_3_city[table_hist_3_city['ad_type'] == 'int'][:30],\n",
    "                 x='city', y='ads_ltv',color='yellow')\n",
    "plt.xticks(rotation=90)\n",
    "plt.show()"
   ]
  },
  {
   "cell_type": "code",
   "execution_count": 454,
   "id": "b3db1502",
   "metadata": {},
   "outputs": [
    {
     "data": {
      "image/png": "[encoded data removed]",
      "text/plain": [
       "<Figure size 432x288 with 1 Axes>"
      ]
     },
     "metadata": {
      "needs_background": "light"
     },
     "output_type": "display_data"
    }
   ],
   "source": [
    "# построим гистограмму для banner\n",
    "ax = sns.barplot(data=table_hist_3_city[table_hist_3_city['ad_type'] == 'rv'][:30],\n",
    "                 x='city', y='ads_ltv', color='crimson')\n",
    "plt.xticks(rotation=90)\n",
    "plt.show()"
   ]
  },
  {
   "cell_type": "markdown",
   "id": "1f2f09c4",
   "metadata": {},
   "source": [
    "# Учтем статистическую значимость.\n",
    "\n",
    "##### 1. По распределению средних eCPM-ов юзеров"
   ]
  },
  {
   "cell_type": "code",
   "execution_count": 272,
   "id": "e1e77920",
   "metadata": {},
   "outputs": [],
   "source": [
    "# выделим данные по юзерам отдельно для каждой рекламы\n",
    "banner_user = table_hist[table_hist['ad_type'] == 'banner']['eCPM']\n",
    "int_user = table_hist[table_hist['ad_type'] == 'int']['eCPM']\n",
    "rv_user = table_hist[table_hist['ad_type'] == 'rv']['eCPM']"
   ]
  },
  {
   "cell_type": "code",
   "execution_count": 273,
   "id": "e68b2624",
   "metadata": {},
   "outputs": [
    {
     "data": {
      "text/html": [
       "<div>\n",
       "<style scoped>\n",
       "    .dataframe tbody tr th:only-of-type {\n",
       "        vertical-align: middle;\n",
       "    }\n",
       "\n",
       "    .dataframe tbody tr th {\n",
       "        vertical-align: top;\n",
       "    }\n",
       "\n",
       "    .dataframe thead tr th {\n",
       "        text-align: left;\n",
       "    }\n",
       "\n",
       "    .dataframe thead tr:last-of-type th {\n",
       "        text-align: right;\n",
       "    }\n",
       "</style>\n",
       "<table border=\"1\" class=\"dataframe\">\n",
       "  <thead>\n",
       "    <tr>\n",
       "      <th></th>\n",
       "      <th colspan=\"8\" halign=\"left\">eCPM</th>\n",
       "    </tr>\n",
       "    <tr>\n",
       "      <th></th>\n",
       "      <th>count</th>\n",
       "      <th>mean</th>\n",
       "      <th>std</th>\n",
       "      <th>min</th>\n",
       "      <th>25%</th>\n",
       "      <th>50%</th>\n",
       "      <th>75%</th>\n",
       "      <th>max</th>\n",
       "    </tr>\n",
       "    <tr>\n",
       "      <th>ad_type</th>\n",
       "      <th></th>\n",
       "      <th></th>\n",
       "      <th></th>\n",
       "      <th></th>\n",
       "      <th></th>\n",
       "      <th></th>\n",
       "      <th></th>\n",
       "      <th></th>\n",
       "    </tr>\n",
       "  </thead>\n",
       "  <tbody>\n",
       "    <tr>\n",
       "      <th>banner</th>\n",
       "      <td>3508.0</td>\n",
       "      <td>1.157111</td>\n",
       "      <td>1.867792</td>\n",
       "      <td>0.013930</td>\n",
       "      <td>0.322804</td>\n",
       "      <td>0.583002</td>\n",
       "      <td>1.297329</td>\n",
       "      <td>43.021387</td>\n",
       "    </tr>\n",
       "    <tr>\n",
       "      <th>int</th>\n",
       "      <td>3962.0</td>\n",
       "      <td>45.557457</td>\n",
       "      <td>46.877344</td>\n",
       "      <td>0.000000</td>\n",
       "      <td>17.620615</td>\n",
       "      <td>27.623670</td>\n",
       "      <td>56.397665</td>\n",
       "      <td>568.678270</td>\n",
       "    </tr>\n",
       "    <tr>\n",
       "      <th>rv</th>\n",
       "      <td>1324.0</td>\n",
       "      <td>80.502004</td>\n",
       "      <td>79.154906</td>\n",
       "      <td>0.223222</td>\n",
       "      <td>28.240000</td>\n",
       "      <td>46.019935</td>\n",
       "      <td>98.067206</td>\n",
       "      <td>808.294820</td>\n",
       "    </tr>\n",
       "  </tbody>\n",
       "</table>\n",
       "</div>"
      ],
      "text/plain": [
       "           eCPM                                                        \\\n",
       "          count       mean        std       min        25%        50%   \n",
       "ad_type                                                                 \n",
       "banner   3508.0   1.157111   1.867792  0.013930   0.322804   0.583002   \n",
       "int      3962.0  45.557457  46.877344  0.000000  17.620615  27.623670   \n",
       "rv       1324.0  80.502004  79.154906  0.223222  28.240000  46.019935   \n",
       "\n",
       "                                \n",
       "               75%         max  \n",
       "ad_type                         \n",
       "banner    1.297329   43.021387  \n",
       "int      56.397665  568.678270  \n",
       "rv       98.067206  808.294820  "
      ]
     },
     "execution_count": 273,
     "metadata": {},
     "output_type": "execute_result"
    }
   ],
   "source": [
    "# получим описательную статистику по каждой рекламе\n",
    "table_hist.groupby('ad_type').describe()"
   ]
  },
  {
   "cell_type": "code",
   "execution_count": 455,
   "id": "13901ee2",
   "metadata": {},
   "outputs": [
    {
     "data": {
      "text/plain": [
       "<AxesSubplot:xlabel='ad_type', ylabel='eCPM'>"
      ]
     },
     "execution_count": 455,
     "metadata": {},
     "output_type": "execute_result"
    },
    {
     "data": {
      "image/png": "[encoded data removed]",
      "text/plain": [
       "<Figure size 432x288 with 1 Axes>"
      ]
     },
     "metadata": {
      "needs_background": "light"
     },
     "output_type": "display_data"
    }
   ],
   "source": [
    "# построим бокс плоты с распределениями и отбросим выбросы\n",
    "sns.boxplot(x=\"ad_type\", y=\"eCPM\", showfliers = False, data=table_hist)"
   ]
  },
  {
   "cell_type": "markdown",
   "id": "c1843aa5",
   "metadata": {},
   "source": [
    "Так как все 3 распределения не относятся к нормальным, что визуально видно из графика, то для всех будем проводить исследования при помощи непараметрические тесты."
   ]
  },
  {
   "cell_type": "code",
   "execution_count": 456,
   "id": "a604eb84",
   "metadata": {},
   "outputs": [
    {
     "data": {
      "text/plain": [
       "MannwhitneyuResult(statistic=31541.0, pvalue=0.0)"
      ]
     },
     "execution_count": 456,
     "metadata": {},
     "output_type": "execute_result"
    }
   ],
   "source": [
    " mannwhitneyu(list_banner_user.dropna(), list_int_user.dropna())"
   ]
  },
  {
   "cell_type": "code",
   "execution_count": 457,
   "id": "e1c3af92",
   "metadata": {},
   "outputs": [
    {
     "data": {
      "text/plain": [
       "MannwhitneyuResult(statistic=6207.0, pvalue=0.0)"
      ]
     },
     "execution_count": 457,
     "metadata": {},
     "output_type": "execute_result"
    }
   ],
   "source": [
    " mannwhitneyu(list_banner_user.dropna(), list_rv_user.dropna())"
   ]
  },
  {
   "cell_type": "code",
   "execution_count": 458,
   "id": "a9377e7b",
   "metadata": {},
   "outputs": [
    {
     "data": {
      "text/plain": [
       "MannwhitneyuResult(statistic=1681940.0, pvalue=2.6653780463924845e-85)"
      ]
     },
     "execution_count": 458,
     "metadata": {},
     "output_type": "execute_result"
    }
   ],
   "source": [
    " mannwhitneyu(list_int_user.dropna(), list_rv_user.dropna())"
   ]
  },
  {
   "cell_type": "markdown",
   "id": "3c77f27f",
   "metadata": {},
   "source": [
    "##### 2. По распределению eCPM-ов по городам, версиям ОС"
   ]
  },
  {
   "cell_type": "code",
   "execution_count": 459,
   "id": "fa4da8c3",
   "metadata": {},
   "outputs": [],
   "source": [
    "# выделим данные по каждой рекламе\n",
    "banner_city = table_hist_2[table_hist_2['ad_type'] == 'banner']['eCPM']\n",
    "int_city = table_hist_2[table_hist_2['ad_type'] == 'int']['eCPM']\n",
    "rv_city = table_hist_2[table_hist_2['ad_type'] == 'rv']['eCPM']"
   ]
  },
  {
   "cell_type": "code",
   "execution_count": 460,
   "id": "3ec5e09f",
   "metadata": {},
   "outputs": [
    {
     "data": {
      "text/html": [
       "<div>\n",
       "<style scoped>\n",
       "    .dataframe tbody tr th:only-of-type {\n",
       "        vertical-align: middle;\n",
       "    }\n",
       "\n",
       "    .dataframe tbody tr th {\n",
       "        vertical-align: top;\n",
       "    }\n",
       "\n",
       "    .dataframe thead tr th {\n",
       "        text-align: left;\n",
       "    }\n",
       "\n",
       "    .dataframe thead tr:last-of-type th {\n",
       "        text-align: right;\n",
       "    }\n",
       "</style>\n",
       "<table border=\"1\" class=\"dataframe\">\n",
       "  <thead>\n",
       "    <tr>\n",
       "      <th></th>\n",
       "      <th colspan=\"8\" halign=\"left\">eCPM</th>\n",
       "    </tr>\n",
       "    <tr>\n",
       "      <th></th>\n",
       "      <th>count</th>\n",
       "      <th>mean</th>\n",
       "      <th>std</th>\n",
       "      <th>min</th>\n",
       "      <th>25%</th>\n",
       "      <th>50%</th>\n",
       "      <th>75%</th>\n",
       "      <th>max</th>\n",
       "    </tr>\n",
       "    <tr>\n",
       "      <th>ad_type</th>\n",
       "      <th></th>\n",
       "      <th></th>\n",
       "      <th></th>\n",
       "      <th></th>\n",
       "      <th></th>\n",
       "      <th></th>\n",
       "      <th></th>\n",
       "      <th></th>\n",
       "    </tr>\n",
       "  </thead>\n",
       "  <tbody>\n",
       "    <tr>\n",
       "      <th>banner</th>\n",
       "      <td>1399.0</td>\n",
       "      <td>1.026833</td>\n",
       "      <td>1.435587</td>\n",
       "      <td>0.012581</td>\n",
       "      <td>0.325671</td>\n",
       "      <td>0.552946</td>\n",
       "      <td>1.083291</td>\n",
       "      <td>19.326435</td>\n",
       "    </tr>\n",
       "    <tr>\n",
       "      <th>int</th>\n",
       "      <td>1451.0</td>\n",
       "      <td>43.873930</td>\n",
       "      <td>45.560365</td>\n",
       "      <td>1.300738</td>\n",
       "      <td>17.267366</td>\n",
       "      <td>27.979084</td>\n",
       "      <td>52.804745</td>\n",
       "      <td>449.354401</td>\n",
       "    </tr>\n",
       "    <tr>\n",
       "      <th>rv</th>\n",
       "      <td>629.0</td>\n",
       "      <td>79.357208</td>\n",
       "      <td>74.906357</td>\n",
       "      <td>3.339551</td>\n",
       "      <td>28.240000</td>\n",
       "      <td>52.711666</td>\n",
       "      <td>102.642605</td>\n",
       "      <td>808.294820</td>\n",
       "    </tr>\n",
       "  </tbody>\n",
       "</table>\n",
       "</div>"
      ],
      "text/plain": [
       "           eCPM                                                        \\\n",
       "          count       mean        std       min        25%        50%   \n",
       "ad_type                                                                 \n",
       "banner   1399.0   1.026833   1.435587  0.012581   0.325671   0.552946   \n",
       "int      1451.0  43.873930  45.560365  1.300738  17.267366  27.979084   \n",
       "rv        629.0  79.357208  74.906357  3.339551  28.240000  52.711666   \n",
       "\n",
       "                                 \n",
       "                75%         max  \n",
       "ad_type                          \n",
       "banner     1.083291   19.326435  \n",
       "int       52.804745  449.354401  \n",
       "rv       102.642605  808.294820  "
      ]
     },
     "execution_count": 460,
     "metadata": {},
     "output_type": "execute_result"
    }
   ],
   "source": [
    "# получим описательную статистику по каждой рекламе\n",
    "table_hist_2.groupby('ad_type').describe()"
   ]
  },
  {
   "cell_type": "code",
   "execution_count": 461,
   "id": "3776cf17",
   "metadata": {},
   "outputs": [
    {
     "data": {
      "text/plain": [
       "<AxesSubplot:xlabel='ad_type', ylabel='eCPM'>"
      ]
     },
     "execution_count": 461,
     "metadata": {},
     "output_type": "execute_result"
    },
    {
     "data": {
      "image/png": "[encoded data removed]",
      "text/plain": [
       "<Figure size 432x288 with 1 Axes>"
      ]
     },
     "metadata": {
      "needs_background": "light"
     },
     "output_type": "display_data"
    }
   ],
   "source": [
    "# построим бокс плоты с распределениями\n",
    "sns.boxplot(x=\"ad_type\", y=\"eCPM\", showfliers = False, data=table_hist_2)"
   ]
  },
  {
   "cell_type": "markdown",
   "id": "f8fc23b8",
   "metadata": {},
   "source": [
    "Так как все 3 распределения не относятся к нормальным, что визуально видно из графика, то для всех будем проводить исследования при помощи непараметрические тесты."
   ]
  },
  {
   "cell_type": "code",
   "execution_count": 462,
   "id": "88a000ec",
   "metadata": {},
   "outputs": [
    {
     "data": {
      "text/plain": [
       "MannwhitneyuResult(statistic=2644.0, pvalue=0.0)"
      ]
     },
     "execution_count": 462,
     "metadata": {},
     "output_type": "execute_result"
    }
   ],
   "source": [
    " mannwhitneyu(banner_city.dropna(), int_city.dropna())"
   ]
  },
  {
   "cell_type": "code",
   "execution_count": 463,
   "id": "15f68d56",
   "metadata": {},
   "outputs": [
    {
     "data": {
      "text/plain": [
       "MannwhitneyuResult(statistic=339.0, pvalue=1.7400640969327864e-284)"
      ]
     },
     "execution_count": 463,
     "metadata": {},
     "output_type": "execute_result"
    }
   ],
   "source": [
    " mannwhitneyu(banner_city.dropna(), rv_city.dropna())"
   ]
  },
  {
   "cell_type": "code",
   "execution_count": 464,
   "id": "864af0b0",
   "metadata": {},
   "outputs": [
    {
     "data": {
      "text/plain": [
       "MannwhitneyuResult(statistic=277802.0, pvalue=1.0322021160730486e-45)"
      ]
     },
     "execution_count": 464,
     "metadata": {},
     "output_type": "execute_result"
    }
   ],
   "source": [
    " mannwhitneyu(int_city.dropna(), rv_city.dropna())"
   ]
  },
  {
   "cell_type": "markdown",
   "id": "97c6c024",
   "metadata": {},
   "source": [
    "##### 3. По распределению доходов по городам, версиям ОС"
   ]
  },
  {
   "cell_type": "code",
   "execution_count": 482,
   "id": "e7154fbc",
   "metadata": {},
   "outputs": [],
   "source": [
    "# выделим данные по каждой рекламе\n",
    "banner_city_income = table_hist_3[table_hist_3['ad_type'] == 'banner']['ads_ltv']\n",
    "int_city_income = table_hist_3[table_hist_3['ad_type'] == 'int']['ads_ltv']\n",
    "rv_city_income = table_hist_3[table_hist_3['ad_type'] == 'rv']['ads_ltv']"
   ]
  },
  {
   "cell_type": "code",
   "execution_count": 483,
   "id": "f0cd850d",
   "metadata": {},
   "outputs": [
    {
     "data": {
      "text/html": [
       "<div>\n",
       "<style scoped>\n",
       "    .dataframe tbody tr th:only-of-type {\n",
       "        vertical-align: middle;\n",
       "    }\n",
       "\n",
       "    .dataframe tbody tr th {\n",
       "        vertical-align: top;\n",
       "    }\n",
       "\n",
       "    .dataframe thead tr th {\n",
       "        text-align: left;\n",
       "    }\n",
       "\n",
       "    .dataframe thead tr:last-of-type th {\n",
       "        text-align: right;\n",
       "    }\n",
       "</style>\n",
       "<table border=\"1\" class=\"dataframe\">\n",
       "  <thead>\n",
       "    <tr>\n",
       "      <th></th>\n",
       "      <th colspan=\"8\" halign=\"left\">ads_ltv</th>\n",
       "    </tr>\n",
       "    <tr>\n",
       "      <th></th>\n",
       "      <th>count</th>\n",
       "      <th>mean</th>\n",
       "      <th>std</th>\n",
       "      <th>min</th>\n",
       "      <th>25%</th>\n",
       "      <th>50%</th>\n",
       "      <th>75%</th>\n",
       "      <th>max</th>\n",
       "    </tr>\n",
       "    <tr>\n",
       "      <th>ad_type</th>\n",
       "      <th></th>\n",
       "      <th></th>\n",
       "      <th></th>\n",
       "      <th></th>\n",
       "      <th></th>\n",
       "      <th></th>\n",
       "      <th></th>\n",
       "      <th></th>\n",
       "    </tr>\n",
       "  </thead>\n",
       "  <tbody>\n",
       "    <tr>\n",
       "      <th>banner</th>\n",
       "      <td>1399.0</td>\n",
       "      <td>504.464109</td>\n",
       "      <td>2464.755253</td>\n",
       "      <td>0.000078</td>\n",
       "      <td>4.189232</td>\n",
       "      <td>33.918905</td>\n",
       "      <td>219.706286</td>\n",
       "      <td>61756.947224</td>\n",
       "    </tr>\n",
       "    <tr>\n",
       "      <th>int</th>\n",
       "      <td>1451.0</td>\n",
       "      <td>18.888333</td>\n",
       "      <td>83.995047</td>\n",
       "      <td>0.002927</td>\n",
       "      <td>0.245276</td>\n",
       "      <td>1.391737</td>\n",
       "      <td>9.364673</td>\n",
       "      <td>2020.654088</td>\n",
       "    </tr>\n",
       "    <tr>\n",
       "      <th>rv</th>\n",
       "      <td>629.0</td>\n",
       "      <td>12.052288</td>\n",
       "      <td>46.762994</td>\n",
       "      <td>0.012630</td>\n",
       "      <td>0.317791</td>\n",
       "      <td>1.267291</td>\n",
       "      <td>5.557086</td>\n",
       "      <td>806.444566</td>\n",
       "    </tr>\n",
       "  </tbody>\n",
       "</table>\n",
       "</div>"
      ],
      "text/plain": [
       "        ads_ltv                                                          \\\n",
       "          count        mean          std       min       25%        50%   \n",
       "ad_type                                                                   \n",
       "banner   1399.0  504.464109  2464.755253  0.000078  4.189232  33.918905   \n",
       "int      1451.0   18.888333    83.995047  0.002927  0.245276   1.391737   \n",
       "rv        629.0   12.052288    46.762994  0.012630  0.317791   1.267291   \n",
       "\n",
       "                                   \n",
       "                75%           max  \n",
       "ad_type                            \n",
       "banner   219.706286  61756.947224  \n",
       "int        9.364673   2020.654088  \n",
       "rv         5.557086    806.444566  "
      ]
     },
     "execution_count": 483,
     "metadata": {},
     "output_type": "execute_result"
    }
   ],
   "source": [
    "# получим описательную статистику по каждой рекламе\n",
    "table_hist_3.groupby('ad_type').describe()"
   ]
  },
  {
   "cell_type": "code",
   "execution_count": 484,
   "id": "5556dea7",
   "metadata": {},
   "outputs": [
    {
     "data": {
      "text/plain": [
       "<AxesSubplot:xlabel='ad_type', ylabel='ads_ltv'>"
      ]
     },
     "execution_count": 484,
     "metadata": {},
     "output_type": "execute_result"
    },
    {
     "data": {
      "image/png": "[encoded data removed]",
      "text/plain": [
       "<Figure size 432x288 with 1 Axes>"
      ]
     },
     "metadata": {
      "needs_background": "light"
     },
     "output_type": "display_data"
    }
   ],
   "source": [
    "# построим бокс плоты с распределениями\n",
    "sns.boxplot(x=\"ad_type\", y=\"ads_ltv\", data=table_hist_3, showfliers = False)"
   ]
  },
  {
   "cell_type": "markdown",
   "id": "4776bff2",
   "metadata": {},
   "source": [
    "Так как все 3 распределения не относятся к нормальным, что визуально видно из графика, то для всех будем проводить исследования при помощи непараметрические тесты."
   ]
  },
  {
   "cell_type": "code",
   "execution_count": 485,
   "id": "6c316443",
   "metadata": {},
   "outputs": [
    {
     "data": {
      "text/plain": [
       "MannwhitneyuResult(statistic=1562112.0, pvalue=5.231193360905333e-137)"
      ]
     },
     "execution_count": 485,
     "metadata": {},
     "output_type": "execute_result"
    }
   ],
   "source": [
    " mannwhitneyu(banner_city_income.dropna(), int_city_income.dropna())"
   ]
  },
  {
   "cell_type": "code",
   "execution_count": 486,
   "id": "22b80589",
   "metadata": {},
   "outputs": [
    {
     "data": {
      "text/plain": [
       "MannwhitneyuResult(statistic=695141.0, pvalue=3.674238945000109e-97)"
      ]
     },
     "execution_count": 486,
     "metadata": {},
     "output_type": "execute_result"
    }
   ],
   "source": [
    " mannwhitneyu(banner_city_income.dropna(), rv_city_income.dropna())"
   ]
  },
  {
   "cell_type": "code",
   "execution_count": 487,
   "id": "25c3cab8",
   "metadata": {},
   "outputs": [
    {
     "data": {
      "text/plain": [
       "MannwhitneyuResult(statistic=464500.0, pvalue=0.5165884559945775)"
      ]
     },
     "execution_count": 487,
     "metadata": {},
     "output_type": "execute_result"
    }
   ],
   "source": [
    " mannwhitneyu(int_city_income.dropna(), rv_city_income.dropna())"
   ]
  },
  {
   "cell_type": "markdown",
   "id": "2b4a34ce",
   "metadata": {},
   "source": [
    "# Какой процент доходов содержит информацию о городе юзера\n",
    "\n",
    "Так как все значения доходов (*revenue*) заполнены, то это можно вычислить через подсчета ненулевых значений города (*city*)"
   ]
  },
  {
   "cell_type": "code",
   "execution_count": 292,
   "id": "dda1836a",
   "metadata": {},
   "outputs": [
    {
     "name": "stdout",
     "output_type": "stream",
     "text": [
      "Процент доходов содержит информацию о городе юзера 62.36 %\n"
     ]
    }
   ],
   "source": [
    "print('Процент доходов содержит информацию о городе юзера',round((df['city'].count()/df['revenue'].count())*100, 2), '%' )"
   ]
  },
  {
   "cell_type": "markdown",
   "id": "cee8de4c",
   "metadata": {},
   "source": [
    "# Зависит ли eCPM от времени дня\n",
    "\n",
    "За время события возьмем данные event_datetime, после этого извлечем часы и построим корреляцию пирсона"
   ]
  },
  {
   "cell_type": "code",
   "execution_count": 305,
   "id": "3f25dff7",
   "metadata": {},
   "outputs": [],
   "source": [
    "hour_event = pd.DatetimeIndex(df['event_datetime']).hour"
   ]
  },
  {
   "cell_type": "code",
   "execution_count": 306,
   "id": "9be7c0d6",
   "metadata": {},
   "outputs": [],
   "source": [
    "ecpm = df['eCPM']"
   ]
  },
  {
   "cell_type": "code",
   "execution_count": 309,
   "id": "2f95680b",
   "metadata": {},
   "outputs": [
    {
     "data": {
      "text/plain": [
       "[<matplotlib.lines.Line2D at 0x7f81eed7b7f0>]"
      ]
     },
     "execution_count": 309,
     "metadata": {},
     "output_type": "execute_result"
    },
    {
     "data": {
      "image/png": "[encoded data removed]",
      "text/plain": [
       "<Figure size 432x288 with 1 Axes>"
      ]
     },
     "metadata": {
      "needs_background": "light"
     },
     "output_type": "display_data"
    }
   ],
   "source": [
    "# построим графики\n",
    "plt.plot(hour_event, ecpm, 'o')\n",
    "m, b = np.polyfit(hour_event, ecpm, 1)\n",
    "plt.plot(hour_event, m*hour_event + b)"
   ]
  },
  {
   "cell_type": "code",
   "execution_count": 313,
   "id": "58ac490f",
   "metadata": {},
   "outputs": [
    {
     "data": {
      "text/plain": [
       "(-0.0014268941502598525, 0.18573339629044958)"
      ]
     },
     "execution_count": 313,
     "metadata": {},
     "output_type": "execute_result"
    }
   ],
   "source": [
    "pearsonr(hour_event,ecpm)"
   ]
  },
  {
   "cell_type": "markdown",
   "id": "0eeed6d7",
   "metadata": {},
   "source": [
    "**Линейная зависимость отсутствует согласно построенным графикам и полученному коэффициенту Пирсона**"
   ]
  },
  {
   "cell_type": "code",
   "execution_count": 472,
   "id": "28b6fc6b",
   "metadata": {},
   "outputs": [
    {
     "data": {
      "image/png": "[encoded data removed]",
      "text/plain": [
       "<Figure size 432x288 with 1 Axes>"
      ]
     },
     "metadata": {
      "needs_background": "light"
     },
     "output_type": "display_data"
    }
   ],
   "source": [
    "# Построим график распределения по времени в течение дня\n",
    "ax = sns.barplot(data=df, x=pd.DatetimeIndex(df['event_datetime']).hour, y='eCPM')"
   ]
  },
  {
   "cell_type": "markdown",
   "id": "844ec837",
   "metadata": {},
   "source": [
    "*Очень большую помеху дают выбросы. Избавимся от них с помощью квантилей и построим повторно график изменения по времени*"
   ]
  },
  {
   "cell_type": "code",
   "execution_count": 322,
   "id": "0a1492d9",
   "metadata": {},
   "outputs": [],
   "source": [
    "df_tmp = pd.DataFrame(list(zip(hour_event,ecpm)),\n",
    "               columns =['Hour', 'ecpm'])"
   ]
  },
  {
   "cell_type": "code",
   "execution_count": 324,
   "id": "1e96bbe8",
   "metadata": {},
   "outputs": [],
   "source": [
    "Q1 = df_tmp.quantile(0.25)\n",
    "Q3 = df_tmp.quantile(0.75)\n",
    "IQR = Q3 - Q1\n",
    "\n",
    "df_tmp_new = df_tmp[~((df_tmp < (Q1 - 1.5 * IQR)) |(df_tmp > (Q3 + 1.5 * IQR))).any(axis=1)]"
   ]
  },
  {
   "cell_type": "code",
   "execution_count": 471,
   "id": "bbab0fbc",
   "metadata": {},
   "outputs": [
    {
     "data": {
      "image/png": "[encoded data removed]",
      "text/plain": [
       "<Figure size 432x288 with 1 Axes>"
      ]
     },
     "metadata": {
      "needs_background": "light"
     },
     "output_type": "display_data"
    }
   ],
   "source": [
    "# построим графики\n",
    "ax = sns.barplot(data=df_tmp_new, x='Hour', y='ecpm')"
   ]
  },
  {
   "cell_type": "markdown",
   "id": "f054ac0b",
   "metadata": {},
   "source": [
    "# Выводы"
   ]
  },
  {
   "cell_type": "markdown",
   "id": "1ebaf5ff",
   "metadata": {},
   "source": [
    "1. Выборка не сбалансирована. Для ее анализа рекомендуется использовать непараметрические методы.\n",
    "2. В связи с явным перекосом в сторону количества некоторых значений при дальнейшем анализе можно рассмотреть вариант, как удалить значения с небольшим количеством или объединить их в одно общее значение. Так же можно применить оversampling и undersampling.\n",
    "3. Полученные выводы из анализа:\n",
    "* Наиболее популярными марками телефонов являются Samsung, Google,Motorola и LG.Чаще всего пользователи заходят из США. Чаще пользователи пользуются вайфаем.\n",
    "* Наиболее часто встречается реклама с низким средним eCPM. Так же наиболее доходных по eCPM ползователи: JMALx7q70qG, JLs8H01mzVe, JLtY7hvRXO3 и наименее прибыльных, на которых стоит обратить внимание: JL3xP8xM4Xf, JL7PaV98HXg, JL3xP8xM4Xf\n",
    "* Чаще всего пользователи пользуются новой операционной системой, но при этом важно отметить что наблюдался так же высокий средний eCPM и при использовании версии 7. Это возможно связано с единичными пользователями, средний показатель которых значительно превышает остальных.\n",
    "* При непараметрическом анлизе с уровнем 0.05 все тесты кроме одного показали что выборки статистически различаются между собой. Только при одном анализе не удалось установить статистического различия для рекламы int и rv при разделении по распределению доходов по городам, версиям ОС\n",
    "* При анализе зависимости после отчистки от выбросов был ярко выражен горб после 15 часов с пиками в 16 и 17 часов, после чего наблюдается снижение. Так же во время снижения наблюдается всплеск в 21 час. Это согласуется со временем окончания работы и вечерним отдыхом дома"
   ]
  },
  {
   "cell_type": "code",
   "execution_count": null,
   "id": "dfa22186",
   "metadata": {},
   "outputs": [],
   "source": []
  }
 ],
 "metadata": {
  "kernelspec": {
   "display_name": "Python 3 (ipykernel)",
   "language": "python",
   "name": "python3"
  },
  "language_info": {
   "codemirror_mode": {
    "name": "ipython",
    "version": 3
   },
   "file_extension": ".py",
   "mimetype": "text/x-python",
   "name": "python",
   "nbconvert_exporter": "python",
   "pygments_lexer": "ipython3",
   "version": "3.9.12"
  }
 },
 "nbformat": 4,
 "nbformat_minor": 5
}
